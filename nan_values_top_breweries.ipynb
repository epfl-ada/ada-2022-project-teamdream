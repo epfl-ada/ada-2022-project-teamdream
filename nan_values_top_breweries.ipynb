{
 "cells": [
  {
   "cell_type": "code",
   "execution_count": 1,
   "id": "b29b728c",
   "metadata": {},
   "outputs": [],
   "source": [
    "import pandas as pd \n",
    "import matplotlib.pyplot as plt \n",
    "import numpy as np\n",
    "import seaborn as sns\n",
    "from statsmodels.stats import diagnostic\n",
    "from scipy import stats\n",
    "import os"
   ]
  },
  {
   "cell_type": "code",
   "execution_count": 2,
   "id": "2cf72afe",
   "metadata": {},
   "outputs": [],
   "source": [
    "# Import the pre-processed data\n",
    "ratings_ba = pd.read_csv('Final/beer_advocate.csv', delimiter=',')\n",
    "ratings_rb = pd.read_csv('Final/rate_beer.csv', delimiter=',')"
   ]
  },
  {
   "cell_type": "markdown",
   "id": "0ce553cf",
   "metadata": {},
   "source": [
    "### 1. Deal with NaN values\n",
    "\n",
    "Some columns may contain NaN values.<br>\n",
    "We will look at the data to see which one are concerned and what to do with them."
   ]
  },
  {
   "cell_type": "code",
   "execution_count": 3,
   "id": "c9db0eda",
   "metadata": {},
   "outputs": [],
   "source": [
    "# Check nan values\n",
    "def nan_ratio(ratings):\n",
    "    float_columns = list()\n",
    "    for column in ratings.columns:\n",
    "        if ratings[column].dtype == float:\n",
    "            float_columns.append(column)\n",
    "\n",
    "    N = ratings.shape[0]\n",
    "    nan_ratio = list()\n",
    "    for column in float_columns:\n",
    "        col = ratings[column]\n",
    "        nb_nan = 0\n",
    "        for elem in col:\n",
    "            if not np.isfinite(elem):\n",
    "                nb_nan+=1\n",
    "        nan_ratio.append(nb_nan/N)\n",
    "    return float_columns, nan_ratio"
   ]
  },
  {
   "cell_type": "code",
   "execution_count": 4,
   "id": "dcfe49a1",
   "metadata": {},
   "outputs": [],
   "source": [
    "float_columns_ba, nan_ratio_ba = nan_ratio(ratings_ba)\n",
    "float_columns_rb, nan_ratio_rb = nan_ratio(ratings_rb)"
   ]
  },
  {
   "cell_type": "code",
   "execution_count": 5,
   "id": "07b20330",
   "metadata": {},
   "outputs": [
    {
     "name": "stdout",
     "output_type": "stream",
     "text": [
      " --- BeerAdvocate ---\n",
      "Column avg has a NaN ratio of 0.00%\n",
      "Column ba_score has a NaN ratio of 0.00%\n",
      "Column bros_score has a NaN ratio of 76.44%\n",
      "Column abv has a NaN ratio of 1.38%\n",
      "Column avg_computed has a NaN ratio of 0.00%\n",
      "Column zscore has a NaN ratio of 87.43%\n",
      "Column avg_matched_valid_ratings has a NaN ratio of 87.43%\n",
      "\n",
      " --- RateBeer ---\n",
      "Column overall_score has a NaN ratio of 0.25%\n",
      "Column style_score has a NaN ratio of 0.01%\n",
      "Column avg has a NaN ratio of 0.00%\n",
      "Column abv has a NaN ratio of 0.83%\n",
      "Column avg_computed has a NaN ratio of 0.00%\n",
      "Column zscore has a NaN ratio of 82.63%\n",
      "Column avg_matched_valid_ratings has a NaN ratio of 82.63%\n"
     ]
    }
   ],
   "source": [
    "print(\" --- BeerAdvocate ---\")\n",
    "for col, nan in zip(float_columns_ba, nan_ratio_ba):\n",
    "    print(\"Column {:s} has a NaN ratio of {:.2f}%\".format(col, nan*100))\n",
    "    \n",
    "print(\"\\n --- RateBeer ---\")\n",
    "for col, nan in zip(float_columns_rb, nan_ratio_rb):\n",
    "    print(\"Column {:s} has a NaN ratio of {:.2f}%\".format(col, nan*100))"
   ]
  },
  {
   "cell_type": "markdown",
   "id": "d5a302d5",
   "metadata": {},
   "source": [
    "We can see that zscore and avg_matched_valid_ratings contain more than 80% of Nan values in both datasets.\n",
    "And in *BeerAdvocate* dataset the bros_score has more than 75% of Nan values.\n",
    "\n",
    "As those features only have a few values which ill therefore be difficult to interpret we should get rid of them."
   ]
  },
  {
   "cell_type": "code",
   "execution_count": 6,
   "id": "bf70d6b2",
   "metadata": {},
   "outputs": [],
   "source": [
    "columns_to_delete_ba = ['bros_score', 'zscore', 'avg_matched_valid_ratings']\n",
    "columns_to_delete_rb = ['zscore', 'avg_matched_valid_ratings']\n",
    "\n",
    "ratings_ba = ratings_ba.drop(columns_to_delete_ba, axis=1)\n",
    "ratings_rb = ratings_rb.drop(columns_to_delete_rb, axis=1)"
   ]
  },
  {
   "cell_type": "markdown",
   "id": "342c781a",
   "metadata": {},
   "source": [
    "For the other features which only contains a few NaN values we can replace them by the median"
   ]
  },
  {
   "cell_type": "code",
   "execution_count": 7,
   "id": "f89340cf",
   "metadata": {},
   "outputs": [],
   "source": [
    "def replace_nan_with_median(ratings, float_columns, delete_columns):\n",
    "    res = ratings\n",
    "    for col in float_columns:\n",
    "        if col not in delete_columns:\n",
    "            median = np.nanmedian(res[col])\n",
    "            res[col].fillna(median, inplace=True)"
   ]
  },
  {
   "cell_type": "code",
   "execution_count": 8,
   "id": "27913c42",
   "metadata": {},
   "outputs": [],
   "source": [
    "replace_nan_with_median(ratings_ba, float_columns_ba, columns_to_delete_ba)\n",
    "replace_nan_with_median(ratings_rb, float_columns_rb, columns_to_delete_rb)"
   ]
  },
  {
   "cell_type": "code",
   "execution_count": 9,
   "id": "e64e8c4e",
   "metadata": {},
   "outputs": [
    {
     "name": "stdout",
     "output_type": "stream",
     "text": [
      "(['avg', 'ba_score', 'abv', 'avg_computed'], [0.0, 0.0, 0.0, 0.0])\n",
      "(['overall_score', 'style_score', 'avg', 'abv', 'avg_computed'], [0.0, 0.0, 0.0, 0.0, 0.0])\n"
     ]
    }
   ],
   "source": [
    "# Make sure all nan value are gone\n",
    "print(nan_ratio(ratings_ba))\n",
    "print(nan_ratio(ratings_rb))"
   ]
  },
  {
   "cell_type": "markdown",
   "id": "4d8006ac",
   "metadata": {},
   "source": [
    "All float columns do not contain NaN values anymore"
   ]
  },
  {
   "cell_type": "markdown",
   "id": "c9a66b23",
   "metadata": {},
   "source": [
    "### 2. Most important breweries\n",
    "\n",
    "We will now take a look at the most important breweries. Those are the one that we are going to be able to advice."
   ]
  },
  {
   "cell_type": "code",
   "execution_count": 10,
   "id": "50ba02bd",
   "metadata": {},
   "outputs": [],
   "source": [
    "# Import breweries data\n",
    "breweries_rb = pd.read_csv(\"data/RateBeer/breweries.csv\", delimiter=',')\n",
    "breweries_ba = pd.read_csv(\"data/BeerAdvocate/breweries.csv\", delimiter=',')"
   ]
  },
  {
   "cell_type": "code",
   "execution_count": 11,
   "id": "67a880cf",
   "metadata": {},
   "outputs": [
    {
     "data": {
      "text/html": [
       "<div>\n",
       "<style scoped>\n",
       "    .dataframe tbody tr th:only-of-type {\n",
       "        vertical-align: middle;\n",
       "    }\n",
       "\n",
       "    .dataframe tbody tr th {\n",
       "        vertical-align: top;\n",
       "    }\n",
       "\n",
       "    .dataframe thead th {\n",
       "        text-align: right;\n",
       "    }\n",
       "</style>\n",
       "<table border=\"1\" class=\"dataframe\">\n",
       "  <thead>\n",
       "    <tr style=\"text-align: right;\">\n",
       "      <th></th>\n",
       "      <th>id</th>\n",
       "      <th>location</th>\n",
       "      <th>name</th>\n",
       "      <th>nbr_beers</th>\n",
       "    </tr>\n",
       "  </thead>\n",
       "  <tbody>\n",
       "    <tr>\n",
       "      <th>0</th>\n",
       "      <td>3198</td>\n",
       "      <td>Gabon</td>\n",
       "      <td>Sobraga</td>\n",
       "      <td>3</td>\n",
       "    </tr>\n",
       "    <tr>\n",
       "      <th>1</th>\n",
       "      <td>13538</td>\n",
       "      <td>Northern Ireland</td>\n",
       "      <td>Ards Brewing Co.</td>\n",
       "      <td>13</td>\n",
       "    </tr>\n",
       "    <tr>\n",
       "      <th>2</th>\n",
       "      <td>22304</td>\n",
       "      <td>Northern Ireland</td>\n",
       "      <td>Barrahooley Craft Brewery</td>\n",
       "      <td>4</td>\n",
       "    </tr>\n",
       "    <tr>\n",
       "      <th>3</th>\n",
       "      <td>22818</td>\n",
       "      <td>Northern Ireland</td>\n",
       "      <td>Boundary</td>\n",
       "      <td>66</td>\n",
       "    </tr>\n",
       "    <tr>\n",
       "      <th>4</th>\n",
       "      <td>24297</td>\n",
       "      <td>Northern Ireland</td>\n",
       "      <td>Brewbot Belfast</td>\n",
       "      <td>3</td>\n",
       "    </tr>\n",
       "  </tbody>\n",
       "</table>\n",
       "</div>"
      ],
      "text/plain": [
       "      id          location                       name  nbr_beers\n",
       "0   3198             Gabon                    Sobraga          3\n",
       "1  13538  Northern Ireland           Ards Brewing Co.         13\n",
       "2  22304  Northern Ireland  Barrahooley Craft Brewery          4\n",
       "3  22818  Northern Ireland                   Boundary         66\n",
       "4  24297  Northern Ireland            Brewbot Belfast          3"
      ]
     },
     "execution_count": 11,
     "metadata": {},
     "output_type": "execute_result"
    }
   ],
   "source": [
    "breweries_rb.head()"
   ]
  },
  {
   "cell_type": "code",
   "execution_count": 12,
   "id": "ac3325ae",
   "metadata": {},
   "outputs": [
    {
     "data": {
      "text/html": [
       "<div>\n",
       "<style scoped>\n",
       "    .dataframe tbody tr th:only-of-type {\n",
       "        vertical-align: middle;\n",
       "    }\n",
       "\n",
       "    .dataframe tbody tr th {\n",
       "        vertical-align: top;\n",
       "    }\n",
       "\n",
       "    .dataframe thead th {\n",
       "        text-align: right;\n",
       "    }\n",
       "</style>\n",
       "<table border=\"1\" class=\"dataframe\">\n",
       "  <thead>\n",
       "    <tr style=\"text-align: right;\">\n",
       "      <th></th>\n",
       "      <th>id</th>\n",
       "      <th>location</th>\n",
       "      <th>name</th>\n",
       "      <th>nbr_beers</th>\n",
       "    </tr>\n",
       "  </thead>\n",
       "  <tbody>\n",
       "    <tr>\n",
       "      <th>0</th>\n",
       "      <td>39912</td>\n",
       "      <td>Kyrgyzstan</td>\n",
       "      <td>Abdysh-Ata (Абдыш Ата)</td>\n",
       "      <td>5</td>\n",
       "    </tr>\n",
       "    <tr>\n",
       "      <th>1</th>\n",
       "      <td>39913</td>\n",
       "      <td>Kyrgyzstan</td>\n",
       "      <td>Arpa (АРПА)</td>\n",
       "      <td>1</td>\n",
       "    </tr>\n",
       "    <tr>\n",
       "      <th>2</th>\n",
       "      <td>39914</td>\n",
       "      <td>Kyrgyzstan</td>\n",
       "      <td>Bear Beer</td>\n",
       "      <td>4</td>\n",
       "    </tr>\n",
       "    <tr>\n",
       "      <th>3</th>\n",
       "      <td>39915</td>\n",
       "      <td>Kyrgyzstan</td>\n",
       "      <td>Blonder Pub</td>\n",
       "      <td>4</td>\n",
       "    </tr>\n",
       "    <tr>\n",
       "      <th>4</th>\n",
       "      <td>39916</td>\n",
       "      <td>Kyrgyzstan</td>\n",
       "      <td>Kellers Bier</td>\n",
       "      <td>2</td>\n",
       "    </tr>\n",
       "  </tbody>\n",
       "</table>\n",
       "</div>"
      ],
      "text/plain": [
       "      id    location                    name  nbr_beers\n",
       "0  39912  Kyrgyzstan  Abdysh-Ata (Абдыш Ата)          5\n",
       "1  39913  Kyrgyzstan             Arpa (АРПА)          1\n",
       "2  39914  Kyrgyzstan               Bear Beer          4\n",
       "3  39915  Kyrgyzstan             Blonder Pub          4\n",
       "4  39916  Kyrgyzstan            Kellers Bier          2"
      ]
     },
     "execution_count": 12,
     "metadata": {},
     "output_type": "execute_result"
    }
   ],
   "source": [
    "breweries_ba.head()"
   ]
  },
  {
   "cell_type": "markdown",
   "id": "d72287a6",
   "metadata": {},
   "source": [
    "In both datasets breweries have the same columns"
   ]
  },
  {
   "cell_type": "code",
   "execution_count": 13,
   "id": "3816d450",
   "metadata": {},
   "outputs": [
    {
     "data": {
      "image/png": "[encoded data removed]",
      "text/plain": [
       "<Figure size 1440x720 with 4 Axes>"
      ]
     },
     "metadata": {
      "needs_background": "light"
     },
     "output_type": "display_data"
    }
   ],
   "source": [
    "fig, axs = plt.subplots(2, 2, figsize=(20, 10))\n",
    "\n",
    "# Histogram of RateBeer breweries nbr of beers\n",
    "subplot = axs[0, 0]\n",
    "subplot.hist(breweries_rb['nbr_beers'], bins=50)\n",
    "subplot.set_title('Distribution of RateBeer breweries nbr of beers')\n",
    "\n",
    "# Boxplot of RateBeer breweries nbr of beers\n",
    "subplot = axs[0, 1]\n",
    "subplot.boxplot(breweries_rb['nbr_beers'])\n",
    "subplot.set_title('Boxplot of RateBeer breweries nbr of beers')\n",
    "\n",
    "# Distribution of BeerAdvocate breweries nbr of beers\n",
    "subplot = axs[1, 0]\n",
    "subplot.hist(breweries_ba['nbr_beers'], bins=50)\n",
    "subplot.set_title('Distribution of BeerAdvocate breweries nbr of beers')\n",
    "\n",
    "# Boxplot of BeerAdvocate breweries nbr of beers\n",
    "subplot = axs[1, 1]\n",
    "subplot.boxplot(breweries_ba['nbr_beers'])\n",
    "subplot.set_title('Boxplot of BeerAdvocate breweries nbr of beers')\n",
    "\n",
    "plt.show()"
   ]
  },
  {
   "cell_type": "markdown",
   "id": "2a08c1d6",
   "metadata": {},
   "source": [
    "We can see that *BeerAdvocate* has breweries that contain up to 1200 beers. But in both datasets, the majority of breweries only sell a few beers."
   ]
  },
  {
   "cell_type": "code",
   "execution_count": 14,
   "id": "b274602e",
   "metadata": {},
   "outputs": [],
   "source": [
    "# First which breweries sell the most beers\n",
    "def top_k_breweries(breweries_df, k):\n",
    "    nbr_breweries = breweries_df.shape[0]\n",
    "    index_sorted = np.argsort(breweries_df['nbr_beers'])\n",
    "    return breweries_df.iloc[index_sorted[nbr_breweries-k:]]"
   ]
  },
  {
   "cell_type": "code",
   "execution_count": 15,
   "id": "60174acc",
   "metadata": {},
   "outputs": [
    {
     "data": {
      "text/html": [
       "<div>\n",
       "<style scoped>\n",
       "    .dataframe tbody tr th:only-of-type {\n",
       "        vertical-align: middle;\n",
       "    }\n",
       "\n",
       "    .dataframe tbody tr th {\n",
       "        vertical-align: top;\n",
       "    }\n",
       "\n",
       "    .dataframe thead th {\n",
       "        text-align: right;\n",
       "    }\n",
       "</style>\n",
       "<table border=\"1\" class=\"dataframe\">\n",
       "  <thead>\n",
       "    <tr style=\"text-align: right;\">\n",
       "      <th></th>\n",
       "      <th>id</th>\n",
       "      <th>location</th>\n",
       "      <th>name</th>\n",
       "      <th>nbr_beers</th>\n",
       "    </tr>\n",
       "  </thead>\n",
       "  <tbody>\n",
       "    <tr>\n",
       "      <th>20942</th>\n",
       "      <td>3911</td>\n",
       "      <td>England</td>\n",
       "      <td>Brodies Beers</td>\n",
       "      <td>279</td>\n",
       "    </tr>\n",
       "    <tr>\n",
       "      <th>13846</th>\n",
       "      <td>340</td>\n",
       "      <td>United States, California</td>\n",
       "      <td>Karl Strauss Brewing Company</td>\n",
       "      <td>280</td>\n",
       "    </tr>\n",
       "    <tr>\n",
       "      <th>18191</th>\n",
       "      <td>14870</td>\n",
       "      <td>United States, Florida</td>\n",
       "      <td>Proof Brewing Company</td>\n",
       "      <td>282</td>\n",
       "    </tr>\n",
       "    <tr>\n",
       "      <th>21861</th>\n",
       "      <td>4443</td>\n",
       "      <td>England</td>\n",
       "      <td>Thornbridge</td>\n",
       "      <td>283</td>\n",
       "    </tr>\n",
       "    <tr>\n",
       "      <th>19411</th>\n",
       "      <td>489</td>\n",
       "      <td>United States, Connecticut</td>\n",
       "      <td>Willimantic Brewing Company</td>\n",
       "      <td>283</td>\n",
       "    </tr>\n",
       "    <tr>\n",
       "      <th>13644</th>\n",
       "      <td>17792</td>\n",
       "      <td>United States, California</td>\n",
       "      <td>Cellarmaker Brewing Company</td>\n",
       "      <td>289</td>\n",
       "    </tr>\n",
       "    <tr>\n",
       "      <th>16961</th>\n",
       "      <td>13326</td>\n",
       "      <td>United States, Missouri</td>\n",
       "      <td>Perennial Artisan Ales</td>\n",
       "      <td>290</td>\n",
       "    </tr>\n",
       "    <tr>\n",
       "      <th>21426</th>\n",
       "      <td>2292</td>\n",
       "      <td>England</td>\n",
       "      <td>Rudgate</td>\n",
       "      <td>290</td>\n",
       "    </tr>\n",
       "    <tr>\n",
       "      <th>14870</th>\n",
       "      <td>14248</td>\n",
       "      <td>United States, Massachusetts</td>\n",
       "      <td>Night Shift Brewing</td>\n",
       "      <td>291</td>\n",
       "    </tr>\n",
       "    <tr>\n",
       "      <th>12494</th>\n",
       "      <td>20106</td>\n",
       "      <td>Poland</td>\n",
       "      <td>Browar Wąsosz</td>\n",
       "      <td>295</td>\n",
       "    </tr>\n",
       "  </tbody>\n",
       "</table>\n",
       "</div>"
      ],
      "text/plain": [
       "          id                      location                          name  \\\n",
       "20942   3911                       England                Brodies Beers   \n",
       "13846    340     United States, California  Karl Strauss Brewing Company   \n",
       "18191  14870        United States, Florida         Proof Brewing Company   \n",
       "21861   4443                       England                   Thornbridge   \n",
       "19411    489    United States, Connecticut   Willimantic Brewing Company   \n",
       "13644  17792     United States, California   Cellarmaker Brewing Company   \n",
       "16961  13326       United States, Missouri        Perennial Artisan Ales   \n",
       "21426   2292                       England                       Rudgate   \n",
       "14870  14248  United States, Massachusetts           Night Shift Brewing   \n",
       "12494  20106                        Poland                 Browar Wąsosz   \n",
       "\n",
       "       nbr_beers  \n",
       "20942        279  \n",
       "13846        280  \n",
       "18191        282  \n",
       "21861        283  \n",
       "19411        283  \n",
       "13644        289  \n",
       "16961        290  \n",
       "21426        290  \n",
       "14870        291  \n",
       "12494        295  "
      ]
     },
     "execution_count": 15,
     "metadata": {},
     "output_type": "execute_result"
    }
   ],
   "source": [
    "# Test : top 10 breweries in RateBeer\n",
    "top_k_breweries(breweries_rb, 10)"
   ]
  },
  {
   "cell_type": "code",
   "execution_count": 16,
   "id": "c40ecf19",
   "metadata": {},
   "outputs": [],
   "source": [
    "top_100_breweries_rb = top_k_breweries(breweries_rb, 100)\n",
    "top_100_breweries_ba = top_k_breweries(breweries_ba, 100)"
   ]
  },
  {
   "cell_type": "code",
   "execution_count": 23,
   "id": "2c9be38b",
   "metadata": {},
   "outputs": [],
   "source": [
    "# Then we can select the breweries that have the most ratings\n",
    "def total_nbr_ratings(breweries_df, ratings_df):\n",
    "    nbr_ratings_list = list()\n",
    "    for brewery_id in breweries_df['id']:\n",
    "        nbr_ratings_list.append(sum(ratings_df[ratings_df['brewery_id'] == brewery_id].nbr_ratings))\n",
    "    return nbr_ratings_list"
   ]
  },
  {
   "cell_type": "code",
   "execution_count": 24,
   "id": "004c9ed0",
   "metadata": {},
   "outputs": [],
   "source": [
    "breweries_rb['total_nbr_ratings'] = total_nbr_ratings(breweries_rb, ratings_rb)\n",
    "breweries_ba['total_nbr_ratings'] = total_nbr_ratings(breweries_ba, ratings_ba)"
   ]
  },
  {
   "cell_type": "code",
   "execution_count": 25,
   "id": "8c614eeb",
   "metadata": {},
   "outputs": [
    {
     "data": {
      "text/html": [
       "<div>\n",
       "<style scoped>\n",
       "    .dataframe tbody tr th:only-of-type {\n",
       "        vertical-align: middle;\n",
       "    }\n",
       "\n",
       "    .dataframe tbody tr th {\n",
       "        vertical-align: top;\n",
       "    }\n",
       "\n",
       "    .dataframe thead th {\n",
       "        text-align: right;\n",
       "    }\n",
       "</style>\n",
       "<table border=\"1\" class=\"dataframe\">\n",
       "  <thead>\n",
       "    <tr style=\"text-align: right;\">\n",
       "      <th></th>\n",
       "      <th>id</th>\n",
       "      <th>location</th>\n",
       "      <th>name</th>\n",
       "      <th>nbr_beers</th>\n",
       "      <th>total_nbr_ratings</th>\n",
       "    </tr>\n",
       "  </thead>\n",
       "  <tbody>\n",
       "    <tr>\n",
       "      <th>0</th>\n",
       "      <td>3198</td>\n",
       "      <td>Gabon</td>\n",
       "      <td>Sobraga</td>\n",
       "      <td>3</td>\n",
       "      <td>0</td>\n",
       "    </tr>\n",
       "    <tr>\n",
       "      <th>1</th>\n",
       "      <td>13538</td>\n",
       "      <td>Northern Ireland</td>\n",
       "      <td>Ards Brewing Co.</td>\n",
       "      <td>13</td>\n",
       "      <td>0</td>\n",
       "    </tr>\n",
       "    <tr>\n",
       "      <th>2</th>\n",
       "      <td>22304</td>\n",
       "      <td>Northern Ireland</td>\n",
       "      <td>Barrahooley Craft Brewery</td>\n",
       "      <td>4</td>\n",
       "      <td>0</td>\n",
       "    </tr>\n",
       "    <tr>\n",
       "      <th>3</th>\n",
       "      <td>22818</td>\n",
       "      <td>Northern Ireland</td>\n",
       "      <td>Boundary</td>\n",
       "      <td>66</td>\n",
       "      <td>0</td>\n",
       "    </tr>\n",
       "    <tr>\n",
       "      <th>4</th>\n",
       "      <td>24297</td>\n",
       "      <td>Northern Ireland</td>\n",
       "      <td>Brewbot Belfast</td>\n",
       "      <td>3</td>\n",
       "      <td>0</td>\n",
       "    </tr>\n",
       "  </tbody>\n",
       "</table>\n",
       "</div>"
      ],
      "text/plain": [
       "      id          location                       name  nbr_beers  \\\n",
       "0   3198             Gabon                    Sobraga          3   \n",
       "1  13538  Northern Ireland           Ards Brewing Co.         13   \n",
       "2  22304  Northern Ireland  Barrahooley Craft Brewery          4   \n",
       "3  22818  Northern Ireland                   Boundary         66   \n",
       "4  24297  Northern Ireland            Brewbot Belfast          3   \n",
       "\n",
       "   total_nbr_ratings  \n",
       "0                  0  \n",
       "1                  0  \n",
       "2                  0  \n",
       "3                  0  \n",
       "4                  0  "
      ]
     },
     "execution_count": 25,
     "metadata": {},
     "output_type": "execute_result"
    }
   ],
   "source": [
    "breweries_rb.head()"
   ]
  },
  {
   "cell_type": "markdown",
   "id": "d1453156",
   "metadata": {},
   "source": [
    "It seems that some breweries are not rated, let's check out how many"
   ]
  },
  {
   "cell_type": "code",
   "execution_count": 35,
   "id": "29c214db",
   "metadata": {},
   "outputs": [
    {
     "name": "stdout",
     "output_type": "stream",
     "text": [
      "In RateBeer 96.98% of breweries are not rated\n",
      "In BeerAdvocate 97.28% of breweries are not rated\n"
     ]
    }
   ],
   "source": [
    "index_not_rated_breweries = np.where(breweries_rb['total_nbr_ratings'] == 0)\n",
    "N = breweries_rb.shape[0]\n",
    "ratio_not_rated_rb = len(index_not_rated_breweries[0]) / N\n",
    "print(\"In RateBeer {:.2f}% of breweries are not rated\".format(ratio_not_rated_rb*100))\n",
    "\n",
    "index_not_rated_breweries = np.where(breweries_ba['total_nbr_ratings'] == 0)\n",
    "N = breweries_ba.shape[0]\n",
    "ratio_not_rated_ba = len(index_not_rated_breweries[0]) / N\n",
    "print(\"In BeerAdvocate {:.2f}% of breweries are not rated\".format(ratio_not_rated_ba*100))"
   ]
  },
  {
   "cell_type": "markdown",
   "id": "10852fcb",
   "metadata": {},
   "source": [
    "We can see here that most breweries are not rated therefore those breweries won't be useful to analyze.<br>\n",
    "Now we can then see which are the most popular breweries, which are the one obtaining most ratings."
   ]
  },
  {
   "cell_type": "code",
   "execution_count": 36,
   "id": "ac92d909",
   "metadata": {},
   "outputs": [],
   "source": [
    "def top_k_rated_breweries(breweries_df, k):\n",
    "    nbr_breweries = breweries_df.shape[0]\n",
    "    index_sorted = np.argsort(breweries_df['total_nbr_ratings'])\n",
    "    return breweries_df.iloc[index_sorted[nbr_breweries-k:]]"
   ]
  },
  {
   "cell_type": "code",
   "execution_count": 41,
   "id": "cef547ad",
   "metadata": {},
   "outputs": [
    {
     "data": {
      "text/html": [
       "<div>\n",
       "<style scoped>\n",
       "    .dataframe tbody tr th:only-of-type {\n",
       "        vertical-align: middle;\n",
       "    }\n",
       "\n",
       "    .dataframe tbody tr th {\n",
       "        vertical-align: top;\n",
       "    }\n",
       "\n",
       "    .dataframe thead th {\n",
       "        text-align: right;\n",
       "    }\n",
       "</style>\n",
       "<table border=\"1\" class=\"dataframe\">\n",
       "  <thead>\n",
       "    <tr style=\"text-align: right;\">\n",
       "      <th></th>\n",
       "      <th>id</th>\n",
       "      <th>location</th>\n",
       "      <th>name</th>\n",
       "      <th>nbr_beers</th>\n",
       "      <th>total_nbr_ratings</th>\n",
       "    </tr>\n",
       "  </thead>\n",
       "  <tbody>\n",
       "    <tr>\n",
       "      <th>13189</th>\n",
       "      <td>75</td>\n",
       "      <td>United States, Wisconsin</td>\n",
       "      <td>Miller Brewing Company &amp;#40;MillerCoors&amp;#41;</td>\n",
       "      <td>194</td>\n",
       "      <td>28250</td>\n",
       "    </tr>\n",
       "    <tr>\n",
       "      <th>15085</th>\n",
       "      <td>90</td>\n",
       "      <td>United States, New York</td>\n",
       "      <td>Brooklyn Brewery</td>\n",
       "      <td>179</td>\n",
       "      <td>28525</td>\n",
       "    </tr>\n",
       "    <tr>\n",
       "      <th>15841</th>\n",
       "      <td>109</td>\n",
       "      <td>United States, Maryland</td>\n",
       "      <td>Flying Dog Brewery</td>\n",
       "      <td>225</td>\n",
       "      <td>29998</td>\n",
       "    </tr>\n",
       "    <tr>\n",
       "      <th>15566</th>\n",
       "      <td>292</td>\n",
       "      <td>United States, Colorado</td>\n",
       "      <td>Great Divide Brewing Company</td>\n",
       "      <td>176</td>\n",
       "      <td>31341</td>\n",
       "    </tr>\n",
       "    <tr>\n",
       "      <th>15323</th>\n",
       "      <td>3473</td>\n",
       "      <td>United States, New York</td>\n",
       "      <td>Southern Tier Brewing Company &amp;#40;ABV&amp;#41;</td>\n",
       "      <td>147</td>\n",
       "      <td>33607</td>\n",
       "    </tr>\n",
       "    <tr>\n",
       "      <th>19738</th>\n",
       "      <td>12853</td>\n",
       "      <td>United States, Illinois</td>\n",
       "      <td>Goose Island Beer Company &amp;#40;AB-InBev&amp;#41;</td>\n",
       "      <td>263</td>\n",
       "      <td>34095</td>\n",
       "    </tr>\n",
       "    <tr>\n",
       "      <th>14011</th>\n",
       "      <td>7043</td>\n",
       "      <td>United States, California</td>\n",
       "      <td>Port Brewing Company / The Lost Abbey</td>\n",
       "      <td>219</td>\n",
       "      <td>37579</td>\n",
       "    </tr>\n",
       "    <tr>\n",
       "      <th>13864</th>\n",
       "      <td>1167</td>\n",
       "      <td>United States, California</td>\n",
       "      <td>Lagunitas Brewing Company &amp;#40;Heineken&amp;#41;</td>\n",
       "      <td>234</td>\n",
       "      <td>38783</td>\n",
       "    </tr>\n",
       "    <tr>\n",
       "      <th>16902</th>\n",
       "      <td>84</td>\n",
       "      <td>United States, Missouri</td>\n",
       "      <td>Anheuser-Busch InBev</td>\n",
       "      <td>216</td>\n",
       "      <td>44951</td>\n",
       "    </tr>\n",
       "    <tr>\n",
       "      <th>19227</th>\n",
       "      <td>96</td>\n",
       "      <td>United States, Oregon</td>\n",
       "      <td>Rogue Ales</td>\n",
       "      <td>218</td>\n",
       "      <td>51804</td>\n",
       "    </tr>\n",
       "  </tbody>\n",
       "</table>\n",
       "</div>"
      ],
      "text/plain": [
       "          id                   location  \\\n",
       "13189     75   United States, Wisconsin   \n",
       "15085     90    United States, New York   \n",
       "15841    109    United States, Maryland   \n",
       "15566    292    United States, Colorado   \n",
       "15323   3473    United States, New York   \n",
       "19738  12853    United States, Illinois   \n",
       "14011   7043  United States, California   \n",
       "13864   1167  United States, California   \n",
       "16902     84    United States, Missouri   \n",
       "19227     96      United States, Oregon   \n",
       "\n",
       "                                               name  nbr_beers  \\\n",
       "13189  Miller Brewing Company &#40;MillerCoors&#41;        194   \n",
       "15085                              Brooklyn Brewery        179   \n",
       "15841                            Flying Dog Brewery        225   \n",
       "15566                  Great Divide Brewing Company        176   \n",
       "15323   Southern Tier Brewing Company &#40;ABV&#41;        147   \n",
       "19738  Goose Island Beer Company &#40;AB-InBev&#41;        263   \n",
       "14011         Port Brewing Company / The Lost Abbey        219   \n",
       "13864  Lagunitas Brewing Company &#40;Heineken&#41;        234   \n",
       "16902                          Anheuser-Busch InBev        216   \n",
       "19227                                    Rogue Ales        218   \n",
       "\n",
       "       total_nbr_ratings  \n",
       "13189              28250  \n",
       "15085              28525  \n",
       "15841              29998  \n",
       "15566              31341  \n",
       "15323              33607  \n",
       "19738              34095  \n",
       "14011              37579  \n",
       "13864              38783  \n",
       "16902              44951  \n",
       "19227              51804  "
      ]
     },
     "execution_count": 41,
     "metadata": {},
     "output_type": "execute_result"
    }
   ],
   "source": [
    "# Test : top 10 breweries in RateBeer\n",
    "top_k_rated_breweries(breweries_rb, 10)"
   ]
  },
  {
   "cell_type": "code",
   "execution_count": 37,
   "id": "56d22270",
   "metadata": {},
   "outputs": [],
   "source": [
    "top_100_rated_breweries_rb = top_k_rated_breweries(breweries_rb, 100)\n",
    "top_100_rated_breweries_ba = top_k_rated_breweries(breweries_ba, 100)"
   ]
  },
  {
   "cell_type": "code",
   "execution_count": 50,
   "id": "32ec5fe9",
   "metadata": {},
   "outputs": [],
   "source": [
    "# Plot the average number of beers for both top k methods\n",
    "def avg_nbr_beers(breweries_df, k_min=10, k_max=200, k_step=10):\n",
    "    avg_method1 = list()\n",
    "    avg_method2 = list()\n",
    "    k_values = list()\n",
    "\n",
    "    for k in range(k_min, k_max, k_step):\n",
    "        top_k1 = top_k_breweries(breweries_df, k)\n",
    "        top_k2 = top_k_rated_breweries(breweries_df, k)\n",
    "\n",
    "        avg1 = top_k1['nbr_beers'].mean()\n",
    "        avg2 = top_k2['nbr_beers'].mean()\n",
    "\n",
    "        avg_method1.append(avg1)\n",
    "        avg_method2.append(avg2)\n",
    "        k_values.append(k)\n",
    "        \n",
    "    return k_values, avg_method1, avg_method2"
   ]
  },
  {
   "cell_type": "code",
   "execution_count": 57,
   "id": "ebd4a909",
   "metadata": {},
   "outputs": [
    {
     "data": {
      "image/png": "[encoded data removed]",
      "text/plain": [
       "<Figure size 1440x360 with 2 Axes>"
      ]
     },
     "metadata": {
      "needs_background": "light"
     },
     "output_type": "display_data"
    }
   ],
   "source": [
    "fig, axs = plt.subplots(1, 2, figsize=(20, 5))\n",
    "\n",
    "# Variation of the mean number of beers depending on k for RateBeer\n",
    "subplot = axs[0]\n",
    "k_values, avg_method1, avg_method2 = avg_nbr_beers(breweries_rb)\n",
    "subplot.plot(k_values, avg_method1, label='Method 1')\n",
    "subplot.plot(k_values, avg_method2, label='Method 2')\n",
    "subplot.legend()\n",
    "subplot.set_title('Variation of the mean number of beers depending on k for RateBeer')\n",
    "\n",
    "# Variation of the mean number of beers depending on k for BeerAdvocate\n",
    "subplot = axs[1]\n",
    "k_values, avg_method1, avg_method2 = avg_nbr_beers(breweries_ba)\n",
    "subplot.plot(k_values, avg_method1, label='Method 1')\n",
    "subplot.plot(k_values, avg_method2, label='Method 2')\n",
    "subplot.legend()\n",
    "subplot.set_title('Variation of the mean number of beers depending on k for BeerAdvocate')\n",
    "\n",
    "plt.show()"
   ]
  },
  {
   "cell_type": "markdown",
   "id": "24a95dbc",
   "metadata": {},
   "source": [
    "From those graphs we can see that in both datasets the method 1 as a higher mean value for the number of beers which means that the breweries with the most beers are not the one with the most ratings. Moreover, with the method 2 the breweries selected still sell many beers and will therefore still be interesting to advice.\n",
    "\n",
    "In conclusion we will use the second method to determine the top beers."
   ]
  },
  {
   "cell_type": "code",
   "execution_count": null,
   "id": "b70240e2",
   "metadata": {},
   "outputs": [],
   "source": []
  }
 ],
 "metadata": {
  "kernelspec": {
   "display_name": "Python 3",
   "language": "python",
   "name": "python3"
  },
  "language_info": {
   "codemirror_mode": {
    "name": "ipython",
    "version": 3
   },
   "file_extension": ".py",
   "mimetype": "text/x-python",
   "name": "python",
   "nbconvert_exporter": "python",
   "pygments_lexer": "ipython3",
   "version": "3.8.8"
  }
 },
 "nbformat": 4,
 "nbformat_minor": 5
}
