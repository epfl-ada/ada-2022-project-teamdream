{
 "cells": [
  {
   "cell_type": "code",
   "execution_count": 1,
   "id": "a3356eb3",
   "metadata": {},
   "outputs": [],
   "source": [
    "import pandas as pd\n",
    "import numpy as np\n",
    "import matplotlib.pyplot as plt\n",
    "%matplotlib inline\n",
    "import seaborn as sns\n",
    "import math\n",
    "import copy\n",
    "\n",
    "#load the statistical libraries\n",
    "from statsmodels.stats import diagnostic\n",
    "from scipy import stats"
   ]
  },
  {
   "cell_type": "code",
   "execution_count": 2,
   "id": "7a2ae8c3",
   "metadata": {},
   "outputs": [
    {
     "name": "stdout",
     "output_type": "stream",
     "text": [
      "Total lines: 121075258\n"
     ]
    }
   ],
   "source": [
    "# Counting the number of lines in the file\n",
    "with open(\"data/RateBeer/ratings.txt\", 'r', encoding='UTF-8') as fp:\n",
    "    num_lines = sum(1 for line in fp)\n",
    "    print('Total lines:', num_lines)"
   ]
  },
  {
   "cell_type": "code",
   "execution_count": null,
   "id": "fee7983a",
   "metadata": {},
   "outputs": [],
   "source": [
    "pd.read_csv(\"data/RateBeer/ratings.txt\", encoding='UTF-8')"
   ]
  },
  {
   "cell_type": "code",
   "execution_count": 4,
   "id": "218389d6",
   "metadata": {},
   "outputs": [],
   "source": [
    "i = 0\n",
    "nb_rows = 16\n",
    "columns_names = ['beer_name', 'beer_id', 'brewery_name', 'brewery_id', 'style', 'abv', 'date', 'user_name', 'user_id', \n",
    "           'appearance', 'aroma', 'palate', 'taste', 'overall', 'rating', 'text']\n",
    "data_result = pd.DataFrame({}, columns=columns_names)"
   ]
  },
  {
   "cell_type": "code",
   "execution_count": null,
   "id": "36f014c5",
   "metadata": {},
   "outputs": [],
   "source": [
    "while i < 1600000:\n",
    "    np_line = np.loadtxt('data/RateBeer/ratings.txt', dtype=str, delimiter=': ', skiprows=i, \n",
    "                         max_rows=nb_rows, usecols=(0,1), encoding='UTF-8')\n",
    "    pd_line = pd.DataFrame(np_line.T, columns=np_line[:,0]).drop(0)\n",
    "    data_result = data_result.append(pd_line)\n",
    "    i+= nb_rows"
   ]
  },
  {
   "cell_type": "code",
   "execution_count": null,
   "id": "2ec7e77f",
   "metadata": {
    "scrolled": true
   },
   "outputs": [],
   "source": [
    "data_result = data_result.reset_index()"
   ]
  },
  {
   "cell_type": "code",
   "execution_count": null,
   "id": "64144bd8",
   "metadata": {},
   "outputs": [],
   "source": [
    "data_result"
   ]
  }
 ],
 "metadata": {
  "kernelspec": {
   "display_name": "Python 3",
   "language": "python",
   "name": "python3"
  },
  "language_info": {
   "codemirror_mode": {
    "name": "ipython",
    "version": 3
   },
   "file_extension": ".py",
   "mimetype": "text/x-python",
   "name": "python",
   "nbconvert_exporter": "python",
   "pygments_lexer": "ipython3",
   "version": "3.8.8"
  }
 },
 "nbformat": 4,
 "nbformat_minor": 5
}
